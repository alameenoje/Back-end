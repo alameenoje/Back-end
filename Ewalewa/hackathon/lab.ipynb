{
 "cells": [
  {
   "cell_type": "code",
   "execution_count": 1,
   "metadata": {},
   "outputs": [],
   "source": [
    "import os\n",
    "os.environ['REPLICATE_API_TOKEN'] = \"r8_OtEsu2Y5JLnt5BtbKMp7ZMoYDgGEowH2y7k71\""
   ]
  },
  {
   "cell_type": "code",
   "execution_count": 2,
   "metadata": {},
   "outputs": [
    {
     "ename": "ReplicateError",
     "evalue": "You have reached the free time limit. To continue using Replicate, set up billing at https://replicate.com/account/billing#billing.",
     "output_type": "error",
     "traceback": [
      "\u001b[1;31m---------------------------------------------------------------------------\u001b[0m",
      "\u001b[1;31mReplicateError\u001b[0m                            Traceback (most recent call last)",
      "Cell \u001b[1;32mIn[2], line 7\u001b[0m\n\u001b[0;32m      4\u001b[0m prompt_input \u001b[39m=\u001b[39m \u001b[39m\"\u001b[39m\u001b[39msegun is an african boy traditional boy who live in who has an Afro hair, he is dark in skin color\u001b[39m\u001b[39m\"\u001b[39m\n\u001b[0;32m      6\u001b[0m \u001b[39m#GENERATE LLM response\u001b[39;00m\n\u001b[1;32m----> 7\u001b[0m output \u001b[39m=\u001b[39m replicate\u001b[39m.\u001b[39;49mrun(\u001b[39m\"\u001b[39;49m\u001b[39mreplicate/llama-2-70b-chat:2796ee9483c3fd7aa2e171d38f4ca12251a30609463dcfd4cd76703f22e96cdf\u001b[39;49m\u001b[39m\"\u001b[39;49m,\n\u001b[0;32m      8\u001b[0m                        \u001b[39minput\u001b[39;49m\u001b[39m=\u001b[39;49m{\n\u001b[0;32m      9\u001b[0m                            \u001b[39m\"\u001b[39;49m\u001b[39mprompt\u001b[39;49m\u001b[39m\"\u001b[39;49m: \u001b[39mf\u001b[39;49m\u001b[39m'\u001b[39;49m\u001b[39m{\u001b[39;49;00mpre_prompt\u001b[39m}\u001b[39;49;00m\u001b[39m \u001b[39;49m\u001b[39m{\u001b[39;49;00mprompt_input\u001b[39m}\u001b[39;49;00m\u001b[39m Assistant: \u001b[39;49m\u001b[39m'\u001b[39;49m,\n\u001b[0;32m     10\u001b[0m                            \u001b[39m\"\u001b[39;49m\u001b[39mtemperature\u001b[39;49m\u001b[39m\"\u001b[39;49m:\u001b[39m0.1\u001b[39;49m,\u001b[39m\"\u001b[39;49m\u001b[39mtop_p\u001b[39;49m\u001b[39m\"\u001b[39;49m:\u001b[39m0.9\u001b[39;49m,\u001b[39m\"\u001b[39;49m\u001b[39mmax_length\u001b[39;49m\u001b[39m\"\u001b[39;49m:\u001b[39m128\u001b[39;49m,\u001b[39m\"\u001b[39;49m\u001b[39mrepetition_penalty\u001b[39;49m\u001b[39m\"\u001b[39;49m:\u001b[39m1\u001b[39;49m\n\u001b[0;32m     11\u001b[0m                        }\n\u001b[0;32m     12\u001b[0m                        )\n\u001b[0;32m     14\u001b[0m full_response \u001b[39m=\u001b[39m \u001b[39m'\u001b[39m\u001b[39m'\u001b[39m\n\u001b[0;32m     15\u001b[0m \u001b[39mfor\u001b[39;00m item \u001b[39min\u001b[39;00m output:\n",
      "File \u001b[1;32mc:\\Users\\Al-ameen\\AppData\\Local\\Programs\\Python\\Python310\\lib\\site-packages\\replicate\\client.py:134\u001b[0m, in \u001b[0;36mClient.run\u001b[1;34m(self, model_version, **kwargs)\u001b[0m\n\u001b[0;32m    132\u001b[0m model \u001b[39m=\u001b[39m \u001b[39mself\u001b[39m\u001b[39m.\u001b[39mmodels\u001b[39m.\u001b[39mget(m\u001b[39m.\u001b[39mgroup(\u001b[39m\"\u001b[39m\u001b[39mmodel\u001b[39m\u001b[39m\"\u001b[39m))\n\u001b[0;32m    133\u001b[0m version \u001b[39m=\u001b[39m model\u001b[39m.\u001b[39mversions\u001b[39m.\u001b[39mget(m\u001b[39m.\u001b[39mgroup(\u001b[39m\"\u001b[39m\u001b[39mversion\u001b[39m\u001b[39m\"\u001b[39m))\n\u001b[1;32m--> 134\u001b[0m prediction \u001b[39m=\u001b[39m \u001b[39mself\u001b[39m\u001b[39m.\u001b[39mpredictions\u001b[39m.\u001b[39mcreate(version\u001b[39m=\u001b[39mversion, \u001b[39m*\u001b[39m\u001b[39m*\u001b[39mkwargs)\n\u001b[0;32m    135\u001b[0m \u001b[39m# Return an iterator of the output\u001b[39;00m\n\u001b[0;32m    136\u001b[0m schema \u001b[39m=\u001b[39m version\u001b[39m.\u001b[39mget_transformed_schema()\n",
      "File \u001b[1;32mc:\\Users\\Al-ameen\\AppData\\Local\\Programs\\Python\\Python310\\lib\\site-packages\\replicate\\prediction.py:168\u001b[0m, in \u001b[0;36mPredictionCollection.create\u001b[1;34m(self, version, input, webhook, webhook_completed, webhook_events_filter, stream, **kwargs)\u001b[0m\n\u001b[0;32m    165\u001b[0m \u001b[39mif\u001b[39;00m stream \u001b[39mis\u001b[39;00m \u001b[39mTrue\u001b[39;00m:\n\u001b[0;32m    166\u001b[0m     body[\u001b[39m\"\u001b[39m\u001b[39mstream\u001b[39m\u001b[39m\"\u001b[39m] \u001b[39m=\u001b[39m \u001b[39m\"\u001b[39m\u001b[39mtrue\u001b[39m\u001b[39m\"\u001b[39m\n\u001b[1;32m--> 168\u001b[0m resp \u001b[39m=\u001b[39m \u001b[39mself\u001b[39;49m\u001b[39m.\u001b[39;49m_client\u001b[39m.\u001b[39;49m_request(\n\u001b[0;32m    169\u001b[0m     \u001b[39m\"\u001b[39;49m\u001b[39mPOST\u001b[39;49m\u001b[39m\"\u001b[39;49m,\n\u001b[0;32m    170\u001b[0m     \u001b[39m\"\u001b[39;49m\u001b[39m/v1/predictions\u001b[39;49m\u001b[39m\"\u001b[39;49m,\n\u001b[0;32m    171\u001b[0m     json\u001b[39m=\u001b[39;49mbody,\n\u001b[0;32m    172\u001b[0m )\n\u001b[0;32m    173\u001b[0m obj \u001b[39m=\u001b[39m resp\u001b[39m.\u001b[39mjson()\n\u001b[0;32m    174\u001b[0m obj[\u001b[39m\"\u001b[39m\u001b[39mversion\u001b[39m\u001b[39m\"\u001b[39m] \u001b[39m=\u001b[39m version\n",
      "File \u001b[1;32mc:\\Users\\Al-ameen\\AppData\\Local\\Programs\\Python\\Python310\\lib\\site-packages\\replicate\\client.py:79\u001b[0m, in \u001b[0;36mClient._request\u001b[1;34m(self, method, path, **kwargs)\u001b[0m\n\u001b[0;32m     77\u001b[0m \u001b[39mif\u001b[39;00m \u001b[39m400\u001b[39m \u001b[39m<\u001b[39m\u001b[39m=\u001b[39m resp\u001b[39m.\u001b[39mstatus_code \u001b[39m<\u001b[39m \u001b[39m600\u001b[39m:\n\u001b[0;32m     78\u001b[0m     \u001b[39mtry\u001b[39;00m:\n\u001b[1;32m---> 79\u001b[0m         \u001b[39mraise\u001b[39;00m ReplicateError(resp\u001b[39m.\u001b[39mjson()[\u001b[39m\"\u001b[39m\u001b[39mdetail\u001b[39m\u001b[39m\"\u001b[39m])\n\u001b[0;32m     80\u001b[0m     \u001b[39mexcept\u001b[39;00m (JSONDecodeError, \u001b[39mKeyError\u001b[39;00m):\n\u001b[0;32m     81\u001b[0m         \u001b[39mpass\u001b[39;00m\n",
      "\u001b[1;31mReplicateError\u001b[0m: You have reached the free time limit. To continue using Replicate, set up billing at https://replicate.com/account/billing#billing."
     ]
    }
   ],
   "source": [
    "import replicate\n",
    "#prompt\n",
    "pre_prompt = 'You are a helpful Assistant who will always generate a more detailed description of \"fictional characters\" that will be fed to a \"text to image AI for image generation\"'\n",
    "prompt_input = \"segun is an african boy traditional boy who live in who has an Afro hair, he is dark in skin color\"\n",
    "\n",
    "#GENERATE LLM response\n",
    "output = replicate.run(\"replicate/llama-2-70b-chat:2796ee9483c3fd7aa2e171d38f4ca12251a30609463dcfd4cd76703f22e96cdf\",\n",
    "                       input={\n",
    "                           \"prompt\": f'{pre_prompt} {prompt_input} Assistant: ',\n",
    "                           \"temperature\":0.1,\"top_p\":0.9,\"max_length\":128,\"repetition_penalty\":1\n",
    "                       }\n",
    "                       )\n",
    "\n",
    "full_response = ''\n",
    "for item in output:\n",
    "    full_response += item\n",
    "print(full_response)"
   ]
  },
  {
   "cell_type": "code",
   "execution_count": 3,
   "metadata": {},
   "outputs": [
    {
     "ename": "ReplicateError",
     "evalue": "You have reached the free time limit. To continue using Replicate, set up billing at https://replicate.com/account/billing#billing.",
     "output_type": "error",
     "traceback": [
      "\u001b[1;31m---------------------------------------------------------------------------\u001b[0m",
      "\u001b[1;31mReplicateError\u001b[0m                            Traceback (most recent call last)",
      "Cell \u001b[1;32mIn[3], line 3\u001b[0m\n\u001b[0;32m      1\u001b[0m \u001b[39mimport\u001b[39;00m \u001b[39mreplicate\u001b[39;00m\n\u001b[0;32m      2\u001b[0m \u001b[39mfrom\u001b[39;00m \u001b[39mIPython\u001b[39;00m\u001b[39m.\u001b[39;00m\u001b[39mdisplay\u001b[39;00m \u001b[39mimport\u001b[39;00m Image\n\u001b[1;32m----> 3\u001b[0m pic \u001b[39m=\u001b[39m replicate\u001b[39m.\u001b[39;49mrun(\n\u001b[0;32m      4\u001b[0m   \u001b[39m\"\u001b[39;49m\u001b[39mstability-ai/sdxl:d830ba5dabf8090ec0db6c10fc862c6eb1c929e1a194a5411852d25fd954ac82\u001b[39;49m\u001b[39m\"\u001b[39;49m,\n\u001b[0;32m      5\u001b[0m   \u001b[39minput\u001b[39;49m\u001b[39m=\u001b[39;49m{\u001b[39m\"\u001b[39;49m\u001b[39mprompt\u001b[39;49m\u001b[39m\"\u001b[39;49m: \u001b[39m\"\u001b[39;49m\u001b[39m An oil painting of \u001b[39;49m\u001b[39m'\u001b[39;49m\u001b[39mSegun is a young African boy who hails from a traditional background. He has a strong sense of culture and heritage, which is reflected in his appearance and demeanor. His hair is styled in a neat Afro, which is a symbol of his cultural identity and pride. His skin is a deep, rich brown, a testament to his African ancestry.Segun\u001b[39;49m\u001b[39m'\u001b[39;49m\u001b[39ms facial features are striking, with high cheekbones and a sharp jawline that gives him\u001b[39;49m\u001b[39m'\u001b[39;49m\u001b[39m by Leonardo da Vinci and Frederic Edwin Church\u001b[39;49m\u001b[39m\"\u001b[39;49m}\n\u001b[0;32m      6\u001b[0m )\n\u001b[0;32m      7\u001b[0m \u001b[39mprint\u001b[39m(pic)\n\u001b[0;32m      8\u001b[0m \u001b[39m# ['https://replicate.com/api/models/stability-ai/stable-diffusion/files/50fcac81-865d-499e-81ac-49de0cb79264/out-0.png']\u001b[39;00m\n",
      "File \u001b[1;32mc:\\Users\\Al-ameen\\AppData\\Local\\Programs\\Python\\Python310\\lib\\site-packages\\replicate\\client.py:134\u001b[0m, in \u001b[0;36mClient.run\u001b[1;34m(self, model_version, **kwargs)\u001b[0m\n\u001b[0;32m    132\u001b[0m model \u001b[39m=\u001b[39m \u001b[39mself\u001b[39m\u001b[39m.\u001b[39mmodels\u001b[39m.\u001b[39mget(m\u001b[39m.\u001b[39mgroup(\u001b[39m\"\u001b[39m\u001b[39mmodel\u001b[39m\u001b[39m\"\u001b[39m))\n\u001b[0;32m    133\u001b[0m version \u001b[39m=\u001b[39m model\u001b[39m.\u001b[39mversions\u001b[39m.\u001b[39mget(m\u001b[39m.\u001b[39mgroup(\u001b[39m\"\u001b[39m\u001b[39mversion\u001b[39m\u001b[39m\"\u001b[39m))\n\u001b[1;32m--> 134\u001b[0m prediction \u001b[39m=\u001b[39m \u001b[39mself\u001b[39m\u001b[39m.\u001b[39mpredictions\u001b[39m.\u001b[39mcreate(version\u001b[39m=\u001b[39mversion, \u001b[39m*\u001b[39m\u001b[39m*\u001b[39mkwargs)\n\u001b[0;32m    135\u001b[0m \u001b[39m# Return an iterator of the output\u001b[39;00m\n\u001b[0;32m    136\u001b[0m schema \u001b[39m=\u001b[39m version\u001b[39m.\u001b[39mget_transformed_schema()\n",
      "File \u001b[1;32mc:\\Users\\Al-ameen\\AppData\\Local\\Programs\\Python\\Python310\\lib\\site-packages\\replicate\\prediction.py:168\u001b[0m, in \u001b[0;36mPredictionCollection.create\u001b[1;34m(self, version, input, webhook, webhook_completed, webhook_events_filter, stream, **kwargs)\u001b[0m\n\u001b[0;32m    165\u001b[0m \u001b[39mif\u001b[39;00m stream \u001b[39mis\u001b[39;00m \u001b[39mTrue\u001b[39;00m:\n\u001b[0;32m    166\u001b[0m     body[\u001b[39m\"\u001b[39m\u001b[39mstream\u001b[39m\u001b[39m\"\u001b[39m] \u001b[39m=\u001b[39m \u001b[39m\"\u001b[39m\u001b[39mtrue\u001b[39m\u001b[39m\"\u001b[39m\n\u001b[1;32m--> 168\u001b[0m resp \u001b[39m=\u001b[39m \u001b[39mself\u001b[39;49m\u001b[39m.\u001b[39;49m_client\u001b[39m.\u001b[39;49m_request(\n\u001b[0;32m    169\u001b[0m     \u001b[39m\"\u001b[39;49m\u001b[39mPOST\u001b[39;49m\u001b[39m\"\u001b[39;49m,\n\u001b[0;32m    170\u001b[0m     \u001b[39m\"\u001b[39;49m\u001b[39m/v1/predictions\u001b[39;49m\u001b[39m\"\u001b[39;49m,\n\u001b[0;32m    171\u001b[0m     json\u001b[39m=\u001b[39;49mbody,\n\u001b[0;32m    172\u001b[0m )\n\u001b[0;32m    173\u001b[0m obj \u001b[39m=\u001b[39m resp\u001b[39m.\u001b[39mjson()\n\u001b[0;32m    174\u001b[0m obj[\u001b[39m\"\u001b[39m\u001b[39mversion\u001b[39m\u001b[39m\"\u001b[39m] \u001b[39m=\u001b[39m version\n",
      "File \u001b[1;32mc:\\Users\\Al-ameen\\AppData\\Local\\Programs\\Python\\Python310\\lib\\site-packages\\replicate\\client.py:79\u001b[0m, in \u001b[0;36mClient._request\u001b[1;34m(self, method, path, **kwargs)\u001b[0m\n\u001b[0;32m     77\u001b[0m \u001b[39mif\u001b[39;00m \u001b[39m400\u001b[39m \u001b[39m<\u001b[39m\u001b[39m=\u001b[39m resp\u001b[39m.\u001b[39mstatus_code \u001b[39m<\u001b[39m \u001b[39m600\u001b[39m:\n\u001b[0;32m     78\u001b[0m     \u001b[39mtry\u001b[39;00m:\n\u001b[1;32m---> 79\u001b[0m         \u001b[39mraise\u001b[39;00m ReplicateError(resp\u001b[39m.\u001b[39mjson()[\u001b[39m\"\u001b[39m\u001b[39mdetail\u001b[39m\u001b[39m\"\u001b[39m])\n\u001b[0;32m     80\u001b[0m     \u001b[39mexcept\u001b[39;00m (JSONDecodeError, \u001b[39mKeyError\u001b[39;00m):\n\u001b[0;32m     81\u001b[0m         \u001b[39mpass\u001b[39;00m\n",
      "\u001b[1;31mReplicateError\u001b[0m: You have reached the free time limit. To continue using Replicate, set up billing at https://replicate.com/account/billing#billing."
     ]
    }
   ],
   "source": [
    "import replicate\n",
    "from IPython.display import Image\n",
    "pic = replicate.run(\n",
    "  \"stability-ai/sdxl:d830ba5dabf8090ec0db6c10fc862c6eb1c929e1a194a5411852d25fd954ac82\",\n",
    "  input={\"prompt\": \" An oil painting of 'Segun is a young African boy who hails from a traditional background. He has a strong sense of culture and heritage, which is reflected in his appearance and demeanor. His hair is styled in a neat Afro, which is a symbol of his cultural identity and pride. His skin is a deep, rich brown, a testament to his African ancestry.Segun's facial features are striking, with high cheekbones and a sharp jawline that gives him' by Leonardo da Vinci and Frederic Edwin Church\"}\n",
    ")\n",
    "print(pic)\n",
    "# ['https://replicate.com/api/models/stability-ai/stable-diffusion/files/50fcac81-865d-499e-81ac-49de0cb79264/out-0.png']"
   ]
  }
 ],
 "metadata": {
  "kernelspec": {
   "display_name": "Python 3",
   "language": "python",
   "name": "python3"
  },
  "language_info": {
   "codemirror_mode": {
    "name": "ipython",
    "version": 3
   },
   "file_extension": ".py",
   "mimetype": "text/x-python",
   "name": "python",
   "nbconvert_exporter": "python",
   "pygments_lexer": "ipython3",
   "version": "3.10.7"
  },
  "orig_nbformat": 4
 },
 "nbformat": 4,
 "nbformat_minor": 2
}
